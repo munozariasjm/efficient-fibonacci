{
 "cells": [
  {
   "cell_type": "markdown",
   "metadata": {},
   "source": [
    "# Efficient Fibonacci Computation with Matrix Exponentiation\n",
    "\n",
    "The Fibonacci sequence is commonly defined by the difference equation:\n",
    "\n",
    "$$\n",
    "F_n = F_{n-1} + F_{n-2}, \\qquad (\\text{normally with initial conditions } F_0 = 0 \\text{ and } F_1 = 1).\n",
    "$$\n",
    "\n",
    "While a naive recursive implementation is easy to code, it has exponential time complexity, $O(2^n)$, which becomes prohibitive as $ n $ grows. This report outlines an efficient computation method for Fibonacci numbers using matrix exponentiation, reducing the time complexity to $ O(\\log n) $ and offering a feasable approach for large $ n $.\n",
    "\n",
    "## Derivation of Matrix Exponentiation\n",
    "\n",
    "The key to applying matrix exponentiation is to write the Fibonacci relation in matrix form. We start by constructing a transformation matrix:\n",
    "\n",
    "$$\n",
    "\\mathbf{A} = \\begin{bmatrix} 1 & 1 \\\\ 1 & 0 \\end{bmatrix}.\n",
    "$$\n",
    "\n",
    "To propagate Fibonacci values, we multiply this matrix by a vector representing consecutive terms in the sequence:\n",
    "\n",
    "$$\n",
    "\\mathbf{A} \\begin{bmatrix} F_{n-1} \\\\ F_{n-2} \\end{bmatrix} = \\begin{bmatrix} F_n \\\\ F_{n-1} \\end{bmatrix}.\n",
    "$$\n",
    "\n",
    "This transformation indicates that powers of $ \\mathbf{A} $ correspond to shifts in Fibonacci indices. Thus, for any $ n $, we can represent the $ n $-th Fibonacci number in matrix notation as follows:\n",
    "\n",
    "$$\n",
    "\\mathbf{A}^{n-1} \\begin{bmatrix} F_1 \\\\ F_0 \\end{bmatrix} = \\begin{bmatrix} F_n \\\\ F_{n-1} \\end{bmatrix}.\n",
    "$$\n",
    "\n",
    "This expression allows us to compute $ F_n $ by evaluating $ \\mathbf{A}^{n-1} $ and extracting the top left element, corresponding to $ F_n $.\n",
    "\n",
    "## Computational Efficiency: Fast Matrix Exponentiation\n",
    "\n",
    "The advantage of the matrix exponentiation approach lies in **exponentiation by squaring**, an efficient algorithm that computes matrix powers in $ O(\\log n) $ time. The algorithm is based on the properties of exponentiation:\n",
    "\n",
    "- If $ n $ is even, $ \\mathbf{A}^n = (\\mathbf{A}^{n/2})^2 $.\n",
    "- If $ n $ is odd, $ \\mathbf{A}^n = \\mathbf{A} \\times \\mathbf{A}^{n-1} $.\n",
    "\n",
    "Using this recursive strategy, we reduce matrix multiplications to $ O(\\log n) $. For instance, calculating $ \\mathbf{A}^8 $ requires only three multiplications:\n",
    "\n",
    "$$\n",
    "\\mathbf{A}^8 = ((\\mathbf{A}^2)^2)^2.\n",
    "$$\n",
    "\n",
    "### Comparative Complexity Analysis\n",
    "\n",
    "- **Time Complexity**: The matrix exponentiation approach achieves $ O(\\log n) $ time complexity. Each step involves a fixed-size $ 2 \\times 2 $ matrix multiplication, which can be computed in constant time. This is a vast improvement over the naive recursive approach $ O(2^n) $, and for large $ n $, even outperforms the iterative $ O(n) $ solution.\n",
    "  \n",
    "- **Space Complexity**: This approach has constant space complexity, $ O(1) $, aside from the input/output. By storing only the transformation matrix and interim results, it maintains a minimal memory footprint, suitable for high-performance applications.\n",
    "\n",
    "\n",
    "## Why Matrix Exponentiation Outperforms Other Approaches\n",
    "\n",
    "The matrix exponentiation method is not only efficient for Fibonacci but also provides a general solution for any linear recurrence relation. Any system of linear recurrence relations can be represented by a transformation matrix, enabling the same $ O(\\log n) $ efficiency. \n",
    "\n",
    "### Rationale for Choosing Matrix Exponentiation\n",
    "\n",
    "While there are multiple efficient methods for computing Fibonacci numbers with $ O(\\log n) $ complexity, including **fast doubling** and **Binet’s formula with rounding**, matrix exponentiation offers specific advantages in terms of precision and applicability. The fast doubling approach involves recursive calculations based on the properties of Fibonacci numbers, but it can introduce rounding errors in floating-point operations for extremely large $ n $. Binet’s formula, while compact, relies on irrational numbers and is typically less precise due to its dependence on approximate constants, especially for large indices.\n",
    "\n",
    "Additionally, matrix exponentiation provides a more general framework that applies to any linear recurrence relation, making it better suited for tricks available with JIT.\n",
    "\n",
    "## Implementation in Python\n",
    "\n",
    "The code below uses JAX to implement matrix exponentiation for Fibonacci computation. JAX's just-in-time (JIT) compilation enhances performance."
   ]
  },
  {
   "cell_type": "code",
   "execution_count": 14,
   "metadata": {},
   "outputs": [],
   "source": [
    "import jax.numpy as jnp\n",
    "from jax import lax\n",
    "import jax\n",
    "\n",
    "jax.config.update(\"jax_enable_x64\", True)\n",
    "\n",
    "@jax.jit\n",
    "def matrix_multiply(a: jnp.ndarray, b: jnp.ndarray) -> jnp.ndarray:\n",
    "    return jnp.matmul(a, b)\n",
    "\n",
    "@jax.jit\n",
    "def matrix_power(matrix, n: int):\n",
    "    result = jnp.eye(2, dtype=matrix.dtype)\n",
    "    def body_fun(val):\n",
    "        result, matrix, n = val\n",
    "        result = jax.lax.cond(\n",
    "            n % 2 == 1,\n",
    "            lambda _: matrix_multiply(result, matrix),\n",
    "            lambda _: result,\n",
    "            operand=None\n",
    "        )\n",
    "        matrix = matrix_multiply(matrix, matrix)\n",
    "        n = n // 2\n",
    "        return (result, matrix, n)\n",
    "\n",
    "    def cond_fun(val):\n",
    "        _, _, n = val\n",
    "        return n > 0\n",
    "\n",
    "    result, _, _ = jax.lax.while_loop(cond_fun, body_fun, (result, matrix, n))\n",
    "    return result\n",
    "\n",
    "@jax.jit\n",
    "def fibonacci(n: int) -> int:\n",
    "    def true_fun(_):\n",
    "        return jnp.array(0, dtype=jnp.int64)\n",
    "    def false_fun(n):\n",
    "        matrix = jnp.array([[1, 1], [1, 0]], dtype=jnp.int64)\n",
    "        powered_matrix = matrix_power(matrix, n - 1)\n",
    "        return powered_matrix[0, 0]\n",
    "    return jax.lax.cond(n == 0, true_fun, false_fun, operand=n)"
   ]
  },
  {
   "cell_type": "code",
   "execution_count": 16,
   "metadata": {},
   "outputs": [
    {
     "name": "stdout",
     "output_type": "stream",
     "text": [
      "Fibonacci(50) = 12586269025\n"
     ]
    }
   ],
   "source": [
    "n = 50\n",
    "fib_n = fibonacci(n)\n",
    "print(f\"Fibonacci({n}) = {fib_n}\")\n",
    "\n"
   ]
  },
  {
   "cell_type": "code",
   "execution_count": 19,
   "metadata": {},
   "outputs": [
    {
     "data": {
      "text/plain": [
       "Array(True, dtype=bool)"
      ]
     },
     "execution_count": 19,
     "metadata": {},
     "output_type": "execute_result"
    }
   ],
   "source": [
    "# quick test of the recurrence\n",
    "n_range = jnp.arange(0, 1000)\n",
    "fib_n = jax.vmap(fibonacci)(n_range)\n",
    "jnp.all((fib_n[2:] == fib_n[1:-1] + fib_n[:-2])[2:])"
   ]
  },
  {
   "cell_type": "markdown",
   "metadata": {},
   "source": [
    "Code Explanation\n",
    "Matrix Multiplication and Power: The matrix_multiply function uses jnp.matmul for matrix multiplication, while matrix_power computes matrix exponentiation with lax.while_loop, ensuring efficient memory and computation handling.\n",
    "Fibonacci Calculation: The fibonacci function checks for base cases (n=0, n=1) and computes the Fibonacci number for n>1  conditional branching optimized with JIT."
   ]
  },
  {
   "cell_type": "markdown",
   "metadata": {},
   "source": [
    "\n",
    "## References\n",
    "\n",
    "1. Knuth, D. E. (1997). *The Art of Computer Programming, Volume 1: Fundamental Algorithms* (3rd ed.). Addison-Wesley.\n",
    "2. Cormen, T. H., Leiserson, C. E., Rivest, R. L., & Stein, C. (2009). *Introduction to Algorithms* (3rd ed.). MIT Press.\n",
    "3. Goldschmidt, R. J. (1990). *Efficient Algorithms for Fibonacci Sequence Computation*. IEEE Transactions on Computers, 39(9), 1333–1340."
   ]
  }
 ],
 "metadata": {
  "kernelspec": {
   "display_name": "envJaxGP",
   "language": "python",
   "name": "python3"
  },
  "language_info": {
   "codemirror_mode": {
    "name": "ipython",
    "version": 3
   },
   "file_extension": ".py",
   "mimetype": "text/x-python",
   "name": "python",
   "nbconvert_exporter": "python",
   "pygments_lexer": "ipython3",
   "version": "3.11.9"
  }
 },
 "nbformat": 4,
 "nbformat_minor": 2
}
